{
  "nbformat": 4,
  "nbformat_minor": 0,
  "metadata": {
    "colab": {
      "name": "rcnn-text-classification.ipynb",
      "provenance": [],
      "collapsed_sections": [],
      "machine_shape": "hm",
      "authorship_tag": "ABX9TyPVFmcSM3UvwBi00XlGM8ag",
      "include_colab_link": true
    },
    "kernelspec": {
      "name": "python3",
      "display_name": "Python 3"
    },
    "language_info": {
      "name": "python"
    },
    "accelerator": "GPU"
  },
  "cells": [
    {
      "cell_type": "markdown",
      "metadata": {
        "id": "view-in-github",
        "colab_type": "text"
      },
      "source": [
        "<a href=\"https://colab.research.google.com/github/Ramprabu95/AI_based_image_compression/blob/main/rcnn_text_classification.ipynb\" target=\"_parent\"><img src=\"https://colab.research.google.com/assets/colab-badge.svg\" alt=\"Open In Colab\"/></a>"
      ]
    },
    {
      "cell_type": "code",
      "execution_count": 1,
      "metadata": {
        "id": "5ECmMfRpDQJ0"
      },
      "outputs": [],
      "source": [
        "import torch\n",
        "import torch.nn as nn\n",
        "import torch.nn.functional as F\n",
        "\n",
        "device = torch.device('cuda')\n",
        "class RCNN(nn.Module):\n",
        "    \"\"\"\n",
        "    Recurrent Convolutional Neural Networks for Text Classification (2015)\n",
        "    \"\"\"\n",
        "    def __init__(self, vocab_size, embedding_dim, hidden_size, hidden_size_linear, class_num, dropout):\n",
        "        super(RCNN, self).__init__()\n",
        "        self.embedding = nn.Embedding(vocab_size, embedding_dim, padding_idx=0)\n",
        "        self.lstm = nn.LSTM(embedding_dim, hidden_size, batch_first=True, bidirectional=True, dropout=dropout)\n",
        "        self.W = nn.Linear(embedding_dim + 2*hidden_size, hidden_size_linear)\n",
        "        self.tanh = nn.Tanh()\n",
        "        self.fc = nn.Linear(hidden_size_linear, class_num)\n",
        "\n",
        "    def forward(self, x):\n",
        "        # x = |bs, seq_len|\n",
        "        x_emb = self.embedding(x)\n",
        "        # x_emb = |bs, seq_len, embedding_dim|\n",
        "        output, _ = self.lstm(x_emb)\n",
        "        # output = |bs, seq_len, 2*hidden_size|\n",
        "        output = torch.cat([output, x_emb], 2)\n",
        "        # output = |bs, seq_len, embedding_dim + 2*hidden_size|\n",
        "        output = self.tanh(self.W(output)).transpose(1, 2)\n",
        "        # output = |bs, seq_len, hidden_size_linear| -> |bs, hidden_size_linear, seq_len|\n",
        "        output = F.max_pool1d(output, output.size(2)).squeeze(2)\n",
        "        # output = |bs, hidden_size_linear|\n",
        "        output = self.fc(output)\n",
        "        # output = |bs, class_num|\n",
        "        return output"
      ]
    },
    {
      "cell_type": "code",
      "source": [
        "\n",
        "import torch\n",
        "from torch.utils.data import Dataset\n",
        "\n",
        "\n",
        "class CustomTextDataset(Dataset):\n",
        "    def __init__(self, texts, labels, dictionary):\n",
        "        # Unknown Token is index 1 (<UNK>)\n",
        "        self.x = [[dictionary.get(token, 1) for token in token_list] for token_list in texts]\n",
        "        self.y = labels\n",
        "\n",
        "    def __len__(self):\n",
        "        \"\"\"Return the data length\"\"\"\n",
        "        return len(self.x)\n",
        "\n",
        "    def __getitem__(self, idx):\n",
        "        \"\"\"Return one item on the index\"\"\"\n",
        "        return self.x[idx], self.y[idx]\n",
        "\n",
        "\n",
        "def collate_fn(data, max_len, pad_idx=0):\n",
        "    \"\"\"Padding\"\"\"\n",
        "    texts, labels = zip(*data)\n",
        "    texts = [s + [pad_idx] * (max_len - len(s)) if len(s) < max_len else s[:max_len] for s in texts]\n",
        "    return torch.LongTensor(texts), torch.LongTensor(labels)"
      ],
      "metadata": {
        "id": "i0L4UQyAGSCq"
      },
      "execution_count": 2,
      "outputs": []
    },
    {
      "cell_type": "code",
      "source": [
        "import pandas as pd\n",
        "import re\n",
        "import nltk\n",
        "from nltk.tokenize import word_tokenize\n",
        "from sklearn.metrics import precision_score, recall_score, f1_score, confusion_matrix\n",
        "nltk.download('punkt')\n",
        "\n",
        "\n",
        "def read_file(file_path):\n",
        "    \"\"\"\n",
        "    Read function for AG NEWS Dataset\n",
        "    \"\"\"\n",
        "    data = pd.read_csv(file_path, names=[\"class\", \"title\", \"description\"])\n",
        "    texts = list(data['title'].values + ' ' + data['description'].values)\n",
        "    texts = [word_tokenize(preprocess_text(sentence)) for sentence in texts]\n",
        "    labels = [label-1 for label in list(data['class'].values)]  # label : 1~4  -> label : 0~3\n",
        "    return texts, labels\n",
        "\n",
        "\n",
        "def preprocess_text(string):\n",
        "    \"\"\"\n",
        "    reference : https://github.com/yoonkim/CNN_sentence/blob/master/process_data.py\n",
        "    \"\"\"\n",
        "    string = string.lower()\n",
        "    string = re.sub(r\"[^A-Za-z0-9(),!?\\'\\`]\", \" \", string)\n",
        "    string = re.sub(r\"\\'s\", \" \\'s\", string)\n",
        "    string = re.sub(r\"\\'ve\", \" \\'ve\", string)\n",
        "    string = re.sub(r\"n\\'t\", \" n\\'t\", string)\n",
        "    string = re.sub(r\"\\'re\", \" \\'re\", string)\n",
        "    string = re.sub(r\"\\'d\", \" \\'d\", string)\n",
        "    string = re.sub(r\"\\'ll\", \" \\'ll\", string)\n",
        "    string = re.sub(r\",\", \" , \", string)\n",
        "    string = re.sub(r\"!\", \" ! \", string)\n",
        "    string = re.sub(r\"\\(\", \" \\( \", string)\n",
        "    string = re.sub(r\"\\)\", \" \\) \", string)\n",
        "    string = re.sub(r\"\\?\", \" \\? \", string)\n",
        "    string = re.sub(r\"\\s{2,}\", \" \", string)\n",
        "    return string.strip()\n",
        "\n",
        "\n",
        "def metrics(dataloader, losses, correct, y_hats, targets):\n",
        "    avg_loss = losses / len(dataloader)\n",
        "    accuracy = correct / len(dataloader.dataset) * 100\n",
        "    precision = precision_score(targets, y_hats, average='macro')\n",
        "    recall = recall_score(targets, y_hats, average='macro')\n",
        "    f1 = f1_score(targets, y_hats, average='macro')\n",
        "    cm = confusion_matrix(targets, y_hats)\n",
        "    return avg_loss, accuracy, precision, recall, f1, cm"
      ],
      "metadata": {
        "colab": {
          "base_uri": "https://localhost:8080/"
        },
        "id": "ye7NXUTeGa8g",
        "outputId": "7b9d440c-ef37-4e1c-f927-999ddd3ebe06"
      },
      "execution_count": 3,
      "outputs": [
        {
          "output_type": "stream",
          "name": "stdout",
          "text": [
            "[nltk_data] Downloading package punkt to /root/nltk_data...\n",
            "[nltk_data]   Unzipping tokenizers/punkt.zip.\n"
          ]
        }
      ]
    },
    {
      "cell_type": "code",
      "source": [
        "\n",
        "import os\n",
        "import logging\n",
        "import torch\n",
        "import torch.nn.functional as F\n",
        "import matplotlib.pyplot as plt\n",
        "\n",
        "\n",
        "\n",
        "def train(model, optimizer1,optimizer2, train_dataloader, valid_dataloader, epochs):\n",
        "    best_f1 = 0\n",
        "    loss_val=[]\n",
        "    step_num=[]\n",
        "    count = 1\n",
        "    print('Start Training!')\n",
        "    for epoch in range(1, epochs+1):\n",
        "        model.train()\n",
        "        for step, (x, y) in enumerate(train_dataloader):\n",
        "            x, y = x.to(device), y.to(device)\n",
        "            pred = model(x)\n",
        "            loss = F.cross_entropy(pred, y)\n",
        "            if loss>0.3:\n",
        "              optimizer1.zero_grad()\n",
        "              loss.backward()\n",
        "              optimizer1.step()\n",
        "            else:\n",
        "              optimizer2.zero_grad()\n",
        "              loss.backward()\n",
        "              optimizer2.step()\n",
        "\n",
        "            if (step+1) % 200 == 0:\n",
        "                print(f'|EPOCHS| {epoch:>}/{epochs} |STEP| {step+1:>4}/{len(train_dataloader)} |LOSS| {loss.item():>.4f}')\n",
        "                loss_val.append(loss.item())\n",
        "                step_num.append(int(count))\n",
        "                count += 1\n",
        "        avg_loss, accuracy, _, _, f1, _ = evaluate(model, valid_dataloader)\n",
        "        print('-'*50)\n",
        "        print(f'|* VALID SET *| |VAL LOSS| {avg_loss:>.4f} |ACC| {accuracy:>.4f} |F1| {f1:>.4f}')\n",
        "        print('-'*50)\n",
        "        PATH = './best.pth'\n",
        "        if f1 > best_f1:\n",
        "            best_f1 = f1\n",
        "            print(f'Saving best model... F1 score is {best_f1:>.4f}')\n",
        "            torch.save(model.state_dict(),PATH)\n",
        "            print('Model saved!')\n",
        "    plt.plot(step_num,loss_val)\n",
        "    plt.xlabel(\"Step Number\")\n",
        "    plt.ylabel(\"Loss\")\n",
        "    plt.show()\n",
        "\n",
        "\n",
        "def evaluate(model, valid_dataloader):\n",
        "    with torch.no_grad():\n",
        "        model.eval()\n",
        "        losses, correct = 0, 0\n",
        "        y_hats, targets = [], []\n",
        "        for x, y in valid_dataloader:\n",
        "            x, y = x.to(device), y.to(device)\n",
        "            pred = model(x)\n",
        "            loss = F.cross_entropy(pred, y)\n",
        "            losses += loss.item()\n",
        "\n",
        "            y_hat = torch.max(pred, 1)[1]\n",
        "            y_hats += y_hat.tolist()\n",
        "            targets += y.tolist()\n",
        "            correct += (y_hat == y).sum().item()\n",
        "\n",
        "    avg_loss, accuracy, precision, recall, f1, cm = metrics(valid_dataloader, losses, correct, y_hats, targets)\n",
        "    return avg_loss, accuracy, precision, recall, f1, cm\n",
        "\n"
      ],
      "metadata": {
        "id": "y3AphBjjGxeQ"
      },
      "execution_count": 4,
      "outputs": []
    },
    {
      "cell_type": "code",
      "source": [
        "from collections import Counter\n",
        "\n",
        "\n",
        "def build_dictionary(texts, vocab_size):\n",
        "    counter = Counter()\n",
        "    SPECIAL_TOKENS = ['<PAD>', '<UNK>']\n",
        "\n",
        "    for word in texts:\n",
        "        counter.update(word)\n",
        "\n",
        "    words = [word for word, count in counter.most_common(vocab_size - len(SPECIAL_TOKENS))]\n",
        "    words = SPECIAL_TOKENS + words\n",
        "    word2idx = {word: idx for idx, word in enumerate(words)}\n",
        "\n",
        "    return word2idx"
      ],
      "metadata": {
        "id": "lN1vjZz2K3iC"
      },
      "execution_count": 5,
      "outputs": []
    },
    {
      "cell_type": "code",
      "source": [
        ""
      ],
      "metadata": {
        "id": "3gc-QgoSRDHt"
      },
      "execution_count": 5,
      "outputs": []
    },
    {
      "cell_type": "code",
      "source": [
        "from google.colab import drive \n",
        "\n",
        "# Mounting google drive\n",
        "drive.mount('/content/drive')"
      ],
      "metadata": {
        "colab": {
          "base_uri": "https://localhost:8080/"
        },
        "id": "ZOt4U1hCRvGi",
        "outputId": "cd74c2c8-2580-47b0-b213-01d23d263fe9"
      },
      "execution_count": 6,
      "outputs": [
        {
          "output_type": "stream",
          "name": "stdout",
          "text": [
            "Mounted at /content/drive\n"
          ]
        }
      ]
    },
    {
      "cell_type": "code",
      "source": [
        "train_file_path = '/content/drive/MyDrive/Colab Notebooks/data_text/train.csv'\n",
        "import os\n",
        "import argparse\n",
        "import logging\n",
        "import random\n",
        "import numpy as np\n",
        "import torch\n",
        "from torch.utils.data import DataLoader, random_split\n",
        "\n",
        "model = RCNN(vocab_size=8000,\n",
        "            embedding_dim=300,\n",
        "            hidden_size=512,\n",
        "            hidden_size_linear=512,\n",
        "            class_num=4,\n",
        "            dropout=0.0).to(device)\n",
        "\n",
        "\n",
        "train_texts, train_labels = read_file(train_file_path)\n",
        "word2idx = build_dictionary(train_texts, vocab_size=8000)\n",
        "full_dataset = CustomTextDataset(train_texts, train_labels, word2idx)\n",
        "num_train_data = len(full_dataset) - 10000\n",
        "train_dataset, val_dataset = random_split(full_dataset, [num_train_data, 10000])\n",
        "train_dataloader = DataLoader(dataset=train_dataset,\n",
        "                                  collate_fn=lambda x: collate_fn(x, 64),\n",
        "                                  batch_size=64,\n",
        "                                  shuffle=True)\n",
        "\n",
        "valid_dataloader = DataLoader(dataset=val_dataset,\n",
        "                                  collate_fn=lambda x: collate_fn(x, 64),\n",
        "                                  batch_size=64,\n",
        "                                  shuffle=True)\n",
        "\n",
        "optimizer1 = torch.optim.Adam(model.parameters(), lr=3e-5)\n",
        "optimizer2 = torch.optim.Adam(model.parameters(), lr=3e-6)\n",
        "train(model, optimizer1,optimizer2, train_dataloader, valid_dataloader,10)"
      ],
      "metadata": {
        "colab": {
          "base_uri": "https://localhost:8080/",
          "height": 1000
        },
        "id": "rdYhPSlhLCZp",
        "outputId": "b61712fe-050c-4698-e3cb-a39d00293e07"
      },
      "execution_count": 8,
      "outputs": [
        {
          "output_type": "stream",
          "name": "stdout",
          "text": [
            "Start Training!\n",
            "|EPOCHS| 1/10 |STEP|  200/1719 |LOSS| 1.2168\n",
            "|EPOCHS| 1/10 |STEP|  400/1719 |LOSS| 1.0935\n",
            "|EPOCHS| 1/10 |STEP|  600/1719 |LOSS| 0.7955\n",
            "|EPOCHS| 1/10 |STEP|  800/1719 |LOSS| 0.6004\n",
            "|EPOCHS| 1/10 |STEP| 1000/1719 |LOSS| 0.6215\n",
            "|EPOCHS| 1/10 |STEP| 1200/1719 |LOSS| 0.5253\n",
            "|EPOCHS| 1/10 |STEP| 1400/1719 |LOSS| 0.3879\n",
            "|EPOCHS| 1/10 |STEP| 1600/1719 |LOSS| 0.3410\n",
            "--------------------------------------------------\n",
            "|* VALID SET *| |VAL LOSS| 0.4598 |ACC| 83.7900 |F1| 0.8370\n",
            "--------------------------------------------------\n",
            "Saving best model... F1 score is 0.8370\n",
            "Model saved!\n",
            "|EPOCHS| 2/10 |STEP|  200/1719 |LOSS| 0.3219\n",
            "|EPOCHS| 2/10 |STEP|  400/1719 |LOSS| 0.4163\n",
            "|EPOCHS| 2/10 |STEP|  600/1719 |LOSS| 0.5028\n",
            "|EPOCHS| 2/10 |STEP|  800/1719 |LOSS| 0.3301\n",
            "|EPOCHS| 2/10 |STEP| 1000/1719 |LOSS| 0.2900\n",
            "|EPOCHS| 2/10 |STEP| 1200/1719 |LOSS| 0.5308\n",
            "|EPOCHS| 2/10 |STEP| 1400/1719 |LOSS| 0.4041\n",
            "|EPOCHS| 2/10 |STEP| 1600/1719 |LOSS| 0.3676\n",
            "--------------------------------------------------\n",
            "|* VALID SET *| |VAL LOSS| 0.3703 |ACC| 87.4000 |F1| 0.8736\n",
            "--------------------------------------------------\n",
            "Saving best model... F1 score is 0.8736\n",
            "Model saved!\n",
            "|EPOCHS| 3/10 |STEP|  200/1719 |LOSS| 0.3178\n",
            "|EPOCHS| 3/10 |STEP|  400/1719 |LOSS| 0.2926\n",
            "|EPOCHS| 3/10 |STEP|  600/1719 |LOSS| 0.3407\n",
            "|EPOCHS| 3/10 |STEP|  800/1719 |LOSS| 0.3793\n",
            "|EPOCHS| 3/10 |STEP| 1000/1719 |LOSS| 0.2326\n",
            "|EPOCHS| 3/10 |STEP| 1200/1719 |LOSS| 0.3230\n",
            "|EPOCHS| 3/10 |STEP| 1400/1719 |LOSS| 0.3145\n",
            "|EPOCHS| 3/10 |STEP| 1600/1719 |LOSS| 0.3083\n",
            "--------------------------------------------------\n",
            "|* VALID SET *| |VAL LOSS| 0.3424 |ACC| 88.2500 |F1| 0.8828\n",
            "--------------------------------------------------\n",
            "Saving best model... F1 score is 0.8828\n",
            "Model saved!\n",
            "|EPOCHS| 4/10 |STEP|  200/1719 |LOSS| 0.2439\n",
            "|EPOCHS| 4/10 |STEP|  400/1719 |LOSS| 0.3507\n",
            "|EPOCHS| 4/10 |STEP|  600/1719 |LOSS| 0.2579\n",
            "|EPOCHS| 4/10 |STEP|  800/1719 |LOSS| 0.3206\n",
            "|EPOCHS| 4/10 |STEP| 1000/1719 |LOSS| 0.2990\n",
            "|EPOCHS| 4/10 |STEP| 1200/1719 |LOSS| 0.1721\n",
            "|EPOCHS| 4/10 |STEP| 1400/1719 |LOSS| 0.2490\n",
            "|EPOCHS| 4/10 |STEP| 1600/1719 |LOSS| 0.3363\n",
            "--------------------------------------------------\n",
            "|* VALID SET *| |VAL LOSS| 0.3148 |ACC| 89.0400 |F1| 0.8901\n",
            "--------------------------------------------------\n",
            "Saving best model... F1 score is 0.8901\n",
            "Model saved!\n",
            "|EPOCHS| 5/10 |STEP|  200/1719 |LOSS| 0.1953\n",
            "|EPOCHS| 5/10 |STEP|  400/1719 |LOSS| 0.2231\n",
            "|EPOCHS| 5/10 |STEP|  600/1719 |LOSS| 0.2548\n",
            "|EPOCHS| 5/10 |STEP|  800/1719 |LOSS| 0.2833\n",
            "|EPOCHS| 5/10 |STEP| 1000/1719 |LOSS| 0.2228\n",
            "|EPOCHS| 5/10 |STEP| 1200/1719 |LOSS| 0.2145\n",
            "|EPOCHS| 5/10 |STEP| 1400/1719 |LOSS| 0.3081\n",
            "|EPOCHS| 5/10 |STEP| 1600/1719 |LOSS| 0.3103\n",
            "--------------------------------------------------\n",
            "|* VALID SET *| |VAL LOSS| 0.3089 |ACC| 89.2500 |F1| 0.8926\n",
            "--------------------------------------------------\n",
            "Saving best model... F1 score is 0.8926\n",
            "Model saved!\n",
            "|EPOCHS| 6/10 |STEP|  200/1719 |LOSS| 0.2862\n",
            "|EPOCHS| 6/10 |STEP|  400/1719 |LOSS| 0.1828\n",
            "|EPOCHS| 6/10 |STEP|  600/1719 |LOSS| 0.2447\n",
            "|EPOCHS| 6/10 |STEP|  800/1719 |LOSS| 0.2489\n",
            "|EPOCHS| 6/10 |STEP| 1000/1719 |LOSS| 0.2135\n",
            "|EPOCHS| 6/10 |STEP| 1200/1719 |LOSS| 0.2858\n",
            "|EPOCHS| 6/10 |STEP| 1400/1719 |LOSS| 0.2703\n",
            "|EPOCHS| 6/10 |STEP| 1600/1719 |LOSS| 0.2729\n",
            "--------------------------------------------------\n",
            "|* VALID SET *| |VAL LOSS| 0.2948 |ACC| 89.6300 |F1| 0.8963\n",
            "--------------------------------------------------\n",
            "Saving best model... F1 score is 0.8963\n",
            "Model saved!\n",
            "|EPOCHS| 7/10 |STEP|  200/1719 |LOSS| 0.1931\n",
            "|EPOCHS| 7/10 |STEP|  400/1719 |LOSS| 0.1353\n",
            "|EPOCHS| 7/10 |STEP|  600/1719 |LOSS| 0.1983\n",
            "|EPOCHS| 7/10 |STEP|  800/1719 |LOSS| 0.2563\n",
            "|EPOCHS| 7/10 |STEP| 1000/1719 |LOSS| 0.1146\n",
            "|EPOCHS| 7/10 |STEP| 1200/1719 |LOSS| 0.3283\n",
            "|EPOCHS| 7/10 |STEP| 1400/1719 |LOSS| 0.2296\n",
            "|EPOCHS| 7/10 |STEP| 1600/1719 |LOSS| 0.1903\n",
            "--------------------------------------------------\n",
            "|* VALID SET *| |VAL LOSS| 0.2944 |ACC| 89.7600 |F1| 0.8970\n",
            "--------------------------------------------------\n",
            "Saving best model... F1 score is 0.8970\n",
            "Model saved!\n",
            "|EPOCHS| 8/10 |STEP|  200/1719 |LOSS| 0.2730\n",
            "|EPOCHS| 8/10 |STEP|  400/1719 |LOSS| 0.2339\n",
            "|EPOCHS| 8/10 |STEP|  600/1719 |LOSS| 0.3130\n",
            "|EPOCHS| 8/10 |STEP|  800/1719 |LOSS| 0.2575\n",
            "|EPOCHS| 8/10 |STEP| 1000/1719 |LOSS| 0.3294\n",
            "|EPOCHS| 8/10 |STEP| 1200/1719 |LOSS| 0.2155\n",
            "|EPOCHS| 8/10 |STEP| 1400/1719 |LOSS| 0.3392\n",
            "|EPOCHS| 8/10 |STEP| 1600/1719 |LOSS| 0.3185\n",
            "--------------------------------------------------\n",
            "|* VALID SET *| |VAL LOSS| 0.2875 |ACC| 89.9200 |F1| 0.8989\n",
            "--------------------------------------------------\n",
            "Saving best model... F1 score is 0.8989\n",
            "Model saved!\n",
            "|EPOCHS| 9/10 |STEP|  200/1719 |LOSS| 0.1439\n",
            "|EPOCHS| 9/10 |STEP|  400/1719 |LOSS| 0.1776\n",
            "|EPOCHS| 9/10 |STEP|  600/1719 |LOSS| 0.1150\n",
            "|EPOCHS| 9/10 |STEP|  800/1719 |LOSS| 0.3682\n",
            "|EPOCHS| 9/10 |STEP| 1000/1719 |LOSS| 0.2131\n",
            "|EPOCHS| 9/10 |STEP| 1200/1719 |LOSS| 0.2670\n",
            "|EPOCHS| 9/10 |STEP| 1400/1719 |LOSS| 0.3239\n",
            "|EPOCHS| 9/10 |STEP| 1600/1719 |LOSS| 0.1743\n",
            "--------------------------------------------------\n",
            "|* VALID SET *| |VAL LOSS| 0.2802 |ACC| 90.1900 |F1| 0.9015\n",
            "--------------------------------------------------\n",
            "Saving best model... F1 score is 0.9015\n",
            "Model saved!\n",
            "|EPOCHS| 10/10 |STEP|  200/1719 |LOSS| 0.2078\n",
            "|EPOCHS| 10/10 |STEP|  400/1719 |LOSS| 0.1863\n",
            "|EPOCHS| 10/10 |STEP|  600/1719 |LOSS| 0.1627\n",
            "|EPOCHS| 10/10 |STEP|  800/1719 |LOSS| 0.2395\n",
            "|EPOCHS| 10/10 |STEP| 1000/1719 |LOSS| 0.1546\n",
            "|EPOCHS| 10/10 |STEP| 1200/1719 |LOSS| 0.2068\n",
            "|EPOCHS| 10/10 |STEP| 1400/1719 |LOSS| 0.2394\n",
            "|EPOCHS| 10/10 |STEP| 1600/1719 |LOSS| 0.2533\n",
            "--------------------------------------------------\n",
            "|* VALID SET *| |VAL LOSS| 0.2800 |ACC| 90.1700 |F1| 0.9016\n",
            "--------------------------------------------------\n",
            "Saving best model... F1 score is 0.9016\n",
            "Model saved!\n"
          ]
        },
        {
          "output_type": "display_data",
          "data": {
            "image/png": "[encoded data removed]",
            "text/plain": [
              "<Figure size 432x288 with 1 Axes>"
            ]
          },
          "metadata": {
            "needs_background": "light"
          }
        }
      ]
    },
    {
      "cell_type": "code",
      "source": [
        "test_model = RCNN(vocab_size=8000,\n",
        "            embedding_dim=300,\n",
        "            hidden_size=512,\n",
        "            hidden_size_linear=512,\n",
        "            class_num=4,\n",
        "            dropout=0.0).to(device)\n",
        "PATH = './best.pth'\n",
        "test_model.load_state_dict(torch.load(PATH))\n",
        "\n"
      ],
      "metadata": {
        "colab": {
          "base_uri": "https://localhost:8080/"
        },
        "id": "gdswIgTCL5Ni",
        "outputId": "73bb0bbb-872b-4400-da4c-8b17825d94c5"
      },
      "execution_count": 9,
      "outputs": [
        {
          "output_type": "execute_result",
          "data": {
            "text/plain": [
              "<All keys matched successfully>"
            ]
          },
          "metadata": {},
          "execution_count": 9
        }
      ]
    },
    {
      "cell_type": "code",
      "source": [
        "test_file_path = '/content/drive/MyDrive/Colab Notebooks/data_text/test.csv'\n",
        "test_texts, test_labels = read_file(test_file_path)\n",
        "test_dataset = CustomTextDataset(test_texts, test_labels, word2idx)\n",
        "test_dataloader = DataLoader(dataset=test_dataset,\n",
        "                            collate_fn=lambda x: collate_fn(x, 64),\n",
        "                            batch_size=64,\n",
        "                            shuffle=True)\n",
        "\n",
        "_, accuracy, precision, recall, f1, cm = evaluate(test_model, test_dataloader)\n",
        "print('-'*50)\n",
        "print(f'|* TEST SET *| |ACC| {accuracy:>.4f} |PRECISION| {precision:>.4f} |RECALL| {recall:>.4f} |F1| {f1:>.4f}')\n",
        "print('-'*50)\n",
        "print('---------------- CONFUSION MATRIX ----------------')\n",
        "for i in range(len(cm)):\n",
        "  print(cm[i])\n",
        "print('--------------------------------------------------')\n"
      ],
      "metadata": {
        "colab": {
          "base_uri": "https://localhost:8080/"
        },
        "id": "9cOWIM7qju6s",
        "outputId": "f7cf607e-50d1-4112-cad5-d55129a1b7ac"
      },
      "execution_count": 10,
      "outputs": [
        {
          "output_type": "stream",
          "name": "stdout",
          "text": [
            "--------------------------------------------------\n",
            "|* TEST SET *| |ACC| 90.1711 |PRECISION| 0.9020 |RECALL| 0.9017 |F1| 0.9018\n",
            "--------------------------------------------------\n",
            "---------------- CONFUSION MATRIX ----------------\n",
            "[1720   46   74   60]\n",
            "[  42 1806   20   32]\n",
            "[  74   11 1639  176]\n",
            "[  59   21  132 1688]\n",
            "--------------------------------------------------\n"
          ]
        }
      ]
    }
  ]
}