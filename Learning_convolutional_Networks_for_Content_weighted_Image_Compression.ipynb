{
  "nbformat": 4,
  "nbformat_minor": 0,
  "metadata": {
    "colab": {
      "name": "Learning_convolutional_Networks_for_Content-weighted_Image_Compression.ipynb",
      "provenance": [],
      "collapsed_sections": [],
      "authorship_tag": "ABX9TyMeIqpAk9ATIvS8+W69K1+N",
      "include_colab_link": true
    },
    "kernelspec": {
      "name": "python3",
      "display_name": "Python 3"
    },
    "language_info": {
      "name": "python"
    }
  },
  "cells": [
    {
      "cell_type": "markdown",
      "metadata": {
        "id": "view-in-github",
        "colab_type": "text"
      },
      "source": [
        "<a href=\"https://colab.research.google.com/github/Ramprabu95/AI_based_image_compression/blob/main/Learning_convolutional_Networks_for_Content_weighted_Image_Compression.ipynb\" target=\"_parent\"><img src=\"https://colab.research.google.com/assets/colab-badge.svg\" alt=\"Open In Colab\"/></a>"
      ]
    },
    {
      "cell_type": "markdown",
      "metadata": {
        "id": "gukcSjrFoKCc"
      },
      "source": [
        "# Learning Convolutional Networks for Content Weighted Image Compression"
      ]
    },
    {
      "cell_type": "markdown",
      "metadata": {
        "id": "ZhEHOO4OoHx1"
      },
      "source": [
        "# **Introduction:**\n"
      ]
    },
    {
      "cell_type": "code",
      "metadata": {
        "id": "lWVsbvgX15EJ"
      },
      "source": [
        "import torch\n",
        "import torch.nn as nn\n",
        "import torchvision\n",
        "import torchvision.transforms as transforms\n",
        "import torch.optim as optim\n",
        "import torch.nn.functional as F"
      ],
      "execution_count": null,
      "outputs": []
    },
    {
      "cell_type": "markdown",
      "metadata": {
        "id": "wkJokkGt6b6V"
      },
      "source": [
        ""
      ]
    },
    {
      "cell_type": "code",
      "metadata": {
        "id": "VBGPqxFv6cLT"
      },
      "source": [
        "def conv(ni, nf, kernal_size=3, stride=1, padding=1, **kwargs):\n",
        "    _conv = nn.Conv2d(ni, nf, kernel_size=kernal_size,stride=stride,padding=padding, **kwargs)\n",
        "    return _conv\n",
        "\n",
        "class ResBlock(nn.Module):\n",
        "    def __init__(self, ni, nh=128):\n",
        "        super().__init__()\n",
        "        self.conv1 = conv(ni, nh)\n",
        "        self.conv2 = conv(nh, ni)\n",
        "    def forward(self, x):\n",
        "        return x  + self.conv2(F.relu(self.conv1(x)))\n",
        "\n",
        "class Encoder(nn.Module):\n",
        "    def __init__(self,return_imp_map=False):\n",
        "        super(Encoder, self).__init__()\n",
        "        self.return_imp_map = return_imp_map\n",
        "        self.stem = nn.Sequential(conv(3, 128, 8, 4, 2), relu,\n",
        "                                   ResBlock(128), relu,\n",
        "                                   conv(128, 256, 4, 2, 1), relu,\n",
        "                                   ResBlock(256), relu,\n",
        "                                   ResBlock(256), relu)\n",
        "    def forward(self,x):\n",
        "        stem = self.stem(x)\n",
        "        return(stem)"
      ],
      "execution_count": null,
      "outputs": []
    },
    {
      "cell_type": "markdown",
      "metadata": {
        "id": "SoXncqk76cff"
      },
      "source": [
        ""
      ]
    },
    {
      "cell_type": "code",
      "metadata": {
        "id": "Jozlth_b6cv4"
      },
      "source": [
        ""
      ],
      "execution_count": null,
      "outputs": []
    },
    {
      "cell_type": "code",
      "metadata": {
        "id": "HjXtqPF0azvR"
      },
      "source": [
        ""
      ],
      "execution_count": null,
      "outputs": []
    }
  ]
}