{
  "nbformat": 4,
  "nbformat_minor": 0,
  "metadata": {
    "colab": {
      "name": "Learning_convolutional_Networks_for_Content-weighted_Image_Compression.ipynb",
      "provenance": [],
      "collapsed_sections": [],
      "authorship_tag": "ABX9TyMUOPCja0fJtLAQHOWETOZk",
      "include_colab_link": true
    },
    "kernelspec": {
      "name": "python3",
      "display_name": "Python 3"
    },
    "language_info": {
      "name": "python"
    }
  },
  "cells": [
    {
      "cell_type": "markdown",
      "metadata": {
        "id": "view-in-github",
        "colab_type": "text"
      },
      "source": [
        "<a href=\"https://colab.research.google.com/github/Ramprabu95/AI_based_image_compression/blob/main/Learning_convolutional_Networks_for_Content_weighted_Image_Compression.ipynb\" target=\"_parent\"><img src=\"https://colab.research.google.com/assets/colab-badge.svg\" alt=\"Open In Colab\"/></a>"
      ]
    },
    {
      "cell_type": "markdown",
      "metadata": {
        "id": "gukcSjrFoKCc"
      },
      "source": [
        "# Learning Convolutional Networks for Content Weighted Image Compression"
      ]
    },
    {
      "cell_type": "markdown",
      "metadata": {
        "id": "ZhEHOO4OoHx1"
      },
      "source": [
        "# **Introduction:**\n"
      ]
    },
    {
      "cell_type": "code",
      "metadata": {
        "id": "lWVsbvgX15EJ"
      },
      "source": [
        "import torch\n",
        "import torch.nn as nn\n",
        "import torchvision\n",
        "import torchvision.transforms as transforms\n",
        "import torch.optim as optim\n",
        "import torch.nn.functional as F"
      ],
      "execution_count": 2,
      "outputs": []
    },
    {
      "cell_type": "markdown",
      "metadata": {
        "id": "wkJokkGt6b6V"
      },
      "source": [
        ""
      ]
    },
    {
      "cell_type": "code",
      "metadata": {
        "id": "VBGPqxFv6cLT"
      },
      "source": [
        "# Definition of convolution layer\n",
        "def conv(ni, nf, kernal_size=3, stride=1, padding=1, **kwargs):\n",
        "    _conv = nn.Conv2d(ni, nf, kernel_size=kernal_size,stride=stride,padding=padding, **kwargs)\n",
        "    return _conv\n",
        "\n",
        "# Definition of a residual block\n",
        "class ResBlock(nn.Module):\n",
        "    def __init__(self, ni, nh=128):\n",
        "        super().__init__()\n",
        "        self.conv1 = conv(ni, nh)\n",
        "        self.conv2 = conv(nh, ni)\n",
        "    def forward(self, x):\n",
        "        return x  + self.conv2(F.relu(self.conv1(x)))\n",
        "\n",
        "# Definition of Relu block\n",
        "relu = nn.ReLU()\n",
        "\n",
        "# Definition of encoder\n",
        "class Encoder(nn.Module):\n",
        "    def __init__(self):\n",
        "        super(Encoder, self).__init__()\n",
        "        self.return_imp_map = return_imp_map\n",
        "        #\n",
        "        self.step1 = nn.Sequential(conv(ni=3, nf=128, kernal_size=8, stride=4, padding=2), relu,\n",
        "                                   ResBlock(nh=128), relu,\n",
        "                                   conv(ni=128, nf=256, kernal_size=4, stride=2, padding=1), relu,\n",
        "                                   ResBlock(nh=256), relu,\n",
        "                                   ResBlock(nh=256), relu)\n",
        "    def forward(self,x):\n",
        "        step1 = self.step1(x)\n",
        "        return(step1)\n",
        "\n",
        "# Function that does the binarizing action\n",
        "class Binarizing_function(torch.autograd.Function):\n",
        "  @staticmethod\n",
        "  def forward(ctx, i):\n",
        "    return (i>0.5).float()\n",
        "  \n",
        "  @staticmethod\n",
        "  def backward(ctx,grad_output):\n",
        "    return grad_output\n",
        "\n",
        "def binary_value(x):\n",
        "  return Binarizing_function.apply(x)\n",
        "\n",
        "class Bin(nn.Module):\n",
        "  def __init__(self,func):\n",
        "    super().__init__()\n",
        "    self.func = func\n",
        "\n",
        "  def forward(self,x):\n",
        "    return self.func(x)\n",
        "\n",
        "# Definition of binarize \n",
        "class Binarize(nn.Module):\n",
        "  def __init__(self):\n",
        "    super().__init__(self,return_imp_map=False)\n",
        "    self.step2 = nn.Sequential(conv(ni=256,nf=64,kernal_size=3,stride=1,padding=1),\n",
        "                               nn.Sigmoid(),\n",
        "                               Bin(binary_value))\n",
        "    \n"
      ],
      "execution_count": 8,
      "outputs": []
    },
    {
      "cell_type": "markdown",
      "metadata": {
        "id": "SoXncqk76cff"
      },
      "source": [
        ""
      ]
    },
    {
      "cell_type": "code",
      "metadata": {
        "id": "Jozlth_b6cv4"
      },
      "source": [
        ""
      ],
      "execution_count": null,
      "outputs": []
    },
    {
      "cell_type": "code",
      "metadata": {
        "id": "HjXtqPF0azvR"
      },
      "source": [
        ""
      ],
      "execution_count": null,
      "outputs": []
    }
  ]
}